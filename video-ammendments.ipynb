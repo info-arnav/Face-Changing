{
 "cells": [
  {
   "cell_type": "code",
   "execution_count": 1,
   "id": "16a6ef6c",
   "metadata": {},
   "outputs": [
    {
     "name": "stdout",
     "output_type": "stream",
     "text": [
      "Applied providers: ['CPUExecutionProvider'], with options: {'CPUExecutionProvider': {}}\n",
      "inswapper-shape: [1, 3, 128, 128]\n"
     ]
    }
   ],
   "source": [
    "from face_swap import swap, replace_face, plt, cv2, DeepFace\n",
    "import os, shutil\n",
    "import numpy as np\n",
    "import face_recognition"
   ]
  },
  {
   "cell_type": "code",
   "execution_count": 2,
   "id": "93685a04",
   "metadata": {},
   "outputs": [],
   "source": [
    "def video_frames(path):\n",
    "    array = []\n",
    "    shutil.rmtree(\"frames\")\n",
    "    os.mkdir(\"frames\")\n",
    "    capture = cv2.VideoCapture(path)\n",
    "    frameNr = 0\n",
    "    while (True):\n",
    "        success, frame = capture.read()\n",
    "        if success:\n",
    "            cv2.imwrite(f'frames/frame_{frameNr}.jpg', frame)\n",
    "            array.append(f'frames/frame_{frameNr}.jpg')\n",
    "        else:\n",
    "            break\n",
    "        frameNr = frameNr+1\n",
    "    capture.release()\n",
    "    return array"
   ]
  },
  {
   "cell_type": "code",
   "execution_count": 10,
   "id": "c5f8ffe4",
   "metadata": {},
   "outputs": [],
   "source": [
    "frames = video_frames(\"static/video.mp4\")"
   ]
  },
  {
   "cell_type": "code",
   "execution_count": 4,
   "id": "650bcd3a",
   "metadata": {},
   "outputs": [],
   "source": [
    "def video_play(path):\n",
    "    cap = cv2.VideoCapture(path)\n",
    "    if (cap.isOpened()== False):\n",
    "        print(\"Error opening video file\")\n",
    "    while(cap.isOpened()):\n",
    "        ret, frame = cap.read()\n",
    "        if ret == True:\n",
    "            cv2.imshow('Frame', frame)\n",
    "            if cv2.waitKey(25) & 0xFF == ord('q'):\n",
    "                break\n",
    "        else:\n",
    "            break\n",
    "    cap.release()\n",
    "    cv2.destroyAllWindows()"
   ]
  },
  {
   "cell_type": "code",
   "execution_count": 5,
   "id": "02390b8c",
   "metadata": {},
   "outputs": [],
   "source": [
    "def video_join(frames):\n",
    "    height, width, layers = cv2.imread(frames[0]).shape\n",
    "    video = cv2.VideoWriter(\"output.mp4\", cv2.VideoWriter_fourcc(*'DIVX'), 15, (width,height))\n",
    "    for image in frames:\n",
    "        video.write(cv2.imread(image))\n",
    "    cv2.destroyAllWindows()\n",
    "    video.release()\n",
    "    video_play(\"output.mp4\")"
   ]
  },
  {
   "cell_type": "code",
   "execution_count": null,
   "id": "a0c524e0",
   "metadata": {},
   "outputs": [],
   "source": [
    "def match_face(face_array, face):\n",
    "    return True"
   ]
  },
  {
   "cell_type": "code",
   "execution_count": 41,
   "id": "8f6ca4bf",
   "metadata": {},
   "outputs": [],
   "source": [
    "faces = []\n",
    "def detect_faces(img):\n",
    "    i = 0\n",
    "    obj = DeepFace.analyze(img, actions = [\"gender\"])\n",
    "    for temp_img in obj:\n",
    "        i = i + 1\n",
    "        x = temp_img[\"region\"][\"x\"]\n",
    "        y = temp_img[\"region\"][\"y\"]\n",
    "        w = temp_img[\"region\"][\"w\"]\n",
    "        h = temp_img[\"region\"][\"h\"]\n",
    "        face = img[y:y+h, x:x+w]\n",
    "        if !match_face(faces, face):\n",
    "            faces.append(face)"
   ]
  },
  {
   "cell_type": "code",
   "execution_count": null,
   "id": "c409d3ba",
   "metadata": {},
   "outputs": [],
   "source": [
    "for x in frames:\n",
    "    detect_faces(cv2.imread(x))"
   ]
  },
  {
   "cell_type": "code",
   "execution_count": null,
   "id": "9264cac4",
   "metadata": {},
   "outputs": [],
   "source": [
    "dictionary = {} \n",
    "for x in faces:\n",
    "    change = int(input(\"Do you want to change this face ? 0/1\"))\n",
    "    if change :\n",
    "        dictionary[x] = cv2.imread(input(\"Image path : \"))"
   ]
  },
  {
   "cell_type": "code",
   "execution_count": null,
   "id": "23190c7c",
   "metadata": {},
   "outputs": [],
   "source": [
    "for frame in frames:\n",
    "    img = cv2.imread(frame)\n",
    "    obj = DeepFace.analyze(img, actions = [\"gender\"])\n",
    "    for temp_img in obj:\n",
    "        x = temp_img[\"region\"][\"x\"]\n",
    "        y = temp_img[\"region\"][\"y\"]\n",
    "        w = temp_img[\"region\"][\"w\"]\n",
    "        h = temp_img[\"region\"][\"h\"]\n",
    "        face = img[y:y+h, x:x+w]\n",
    "        for key in dictionary.keys():\n",
    "            if match_face([dictionary[key]], face):\n",
    "                new_image = swap(dictionary[key],face)\n",
    "                img[y:y+h, x:x+w] = new_image\n",
    "                cv2.imwrite(frame, img)"
   ]
  }
 ],
 "metadata": {
  "kernelspec": {
   "display_name": "Python 3",
   "language": "python",
   "name": "python3"
  },
  "language_info": {
   "codemirror_mode": {
    "name": "ipython",
    "version": 3
   },
   "file_extension": ".py",
   "mimetype": "text/x-python",
   "name": "python",
   "nbconvert_exporter": "python",
   "pygments_lexer": "ipython3",
   "version": "3.8.8"
  }
 },
 "nbformat": 4,
 "nbformat_minor": 5
}
